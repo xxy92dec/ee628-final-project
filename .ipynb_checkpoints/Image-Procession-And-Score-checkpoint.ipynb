{
 "cells": [
  {
   "cell_type": "code",
   "execution_count": 1,
   "metadata": {},
   "outputs": [
    {
     "name": "stderr",
     "output_type": "stream",
     "text": [
      "Using TensorFlow backend.\n"
     ]
    }
   ],
   "source": [
    "#import package for Classification if need.\n",
    "import numpy as np\n",
    "import tensorflow as tf\n",
    "import tensorflow.keras.layers as KL\n",
    "import os\n",
    "from keras.models import Sequential, load_model\n",
    "from matplotlib import pyplot as plt\n",
    "from keras.layers import Conv2D, MaxPooling2D, Dense, Dropout, Flatten\n",
    "from numpy import asarray\n",
    "#package for image procession\n",
    "from PIL import Image\n",
    "from numpy import asarray\n",
    "from keras.preprocessing.image import img_to_array"
   ]
  },
  {
   "cell_type": "code",
   "execution_count": 2,
   "metadata": {},
   "outputs": [],
   "source": [
    "#y Axis Function\n",
    "def white_judge(RGB):\n",
    "    dif1 = 255 - int(RGB[0])\n",
    "    dif2 = 255 - int(RGB[1])\n",
    "    dif3 = 255 - int(RGB[2])\n",
    "    dif = dif1 + dif2 + dif3\n",
    "    if dif < 30:\n",
    "        return True\n",
    "    else:\n",
    "        return False\n",
    "    \n",
    "def deep_judge(RGB):\n",
    "    dif1 = 255 - int(RGB[0])\n",
    "    dif2 = 255 - int(RGB[1])\n",
    "    dif3 = 255 - int(RGB[2])\n",
    "    dif = dif1 + dif2 + dif3\n",
    "    if dif < 90:\n",
    "        return True\n",
    "    else:\n",
    "        return False\n",
    "    \n",
    "def combine_line(line_list):\n",
    "    line_list_combine = []\n",
    "    new = 0\n",
    "    for i in range(len(line_list)):\n",
    "        IsNewline = 0\n",
    "        if i < len(line_list)-1:\n",
    "            if line_list[i+1] - line_list[i]<=1:\n",
    "                newline = (line_list[i]+line_list[i+1])/2\n",
    "                line_list_combine.append(newline) \n",
    "                IsNewline += 1\n",
    "                new += 1\n",
    "        if i == 0 and IsNewline == 0:\n",
    "            line_list_combine.append(line_list[i])\n",
    "        if i>0 and IsNewline == 0:\n",
    "            if line_list[i] - line_list[i-1] > 1:\n",
    "                line_list_combine.append(line_list[i])\n",
    "    if new >1:\n",
    "        return combine_line(line_list_combine)\n",
    "    else: \n",
    "        for i in range (len(line_list)):\n",
    "            line_list_combine[i] = int(line_list_combine[i])  \n",
    "    return line_list_combine\n",
    "\n",
    "\n",
    "#x Axis\n",
    "def X_axis_split(data):\n",
    "    wlist = []\n",
    "    w = []\n",
    "    start = 0\n",
    "    for j in range(len(data[0])):\n",
    "        num = 0\n",
    "        for i in range(len(data)):\n",
    "            if white_judge(data[i][j]) == False:\n",
    "                num += 1\n",
    "        w.append(num)\n",
    "    minw = min(w)\n",
    "    for i in range(len(w)):\n",
    "        if i < len(w)-1:\n",
    "            if w[i] > minw and start == 0:\n",
    "                wlist.append([])\n",
    "                wlist[-1].append(i)\n",
    "                start = 1\n",
    "            elif w[i] > minw and  start == 1:\n",
    "                if w[i+1] <= minw:\n",
    "                    wlist[-1].append(i)\n",
    "                    start = 0\n",
    "        else:\n",
    "            if w[i] > minw:\n",
    "                wlist[-1].append(i)\n",
    "    wlist1 = []\n",
    "    for i in range(len(wlist)):\n",
    "        if len(wlist[i]) ==2:\n",
    "            if wlist[i][1]-wlist[i][0]>=5:\n",
    "                wlist1.append(wlist[i])\n",
    "    return wlist1\n",
    "\n",
    "def img_split_X(img):\n",
    "    img_list = []\n",
    "    data = asarray(img)\n",
    "    if Is_blank_line(img) == True:\n",
    "        img_list = [0]\n",
    "        return img_list\n",
    "    wid_list = X_axis_split(data)\n",
    "    for i in range(len(wid_list)):\n",
    "        top = 0\n",
    "        bot = len(data)-1\n",
    "        right = wid_list[i][1]\n",
    "        left = wid_list[i][0]\n",
    "        new_img = img2.crop((left, top, right, bot))\n",
    "        new_img = Reformat_Image(new_img)\n",
    "        new_img = new_img.resize((28,28), Image.ANTIALIAS)\n",
    "        img_list.append(new_img)\n",
    "    return img_list\n",
    "\n",
    "def Is_blank_line(img):\n",
    "    data = asarray(img)\n",
    "    w = []\n",
    "    for j in range(len(data[0])):\n",
    "        num = 0\n",
    "        for i in range(len(data)):\n",
    "            if white_judge(data[i][j]) == False:\n",
    "                num += 1\n",
    "        w.append(num)\n",
    "        maxw = max(w)\n",
    "        minw = min(w)\n",
    "    if maxw - 5> minw:\n",
    "        return False\n",
    "    else: return True\n",
    "    \n",
    "def Reformat_Image(image):\n",
    "    from PIL import Image\n",
    "    image_size = image.size\n",
    "    width = image_size[0]\n",
    "    height = image_size[1]\n",
    "\n",
    "    if(width != height):\n",
    "        bigside = width if width > height else height\n",
    "        background = Image.new('RGB', (bigside, bigside), (255, 255, 255))\n",
    "        offset = (int(round(((bigside - width) / 2), 0)), int(round(((bigside - height) / 2),0)))\n",
    "        background.paste(image, offset)\n",
    "        return background    \n",
    "    "
   ]
  },
  {
   "cell_type": "code",
   "execution_count": 3,
   "metadata": {},
   "outputs": [
    {
     "data": {
      "image/png": "[encoded data removed]",
      "text/plain": [
       "<PIL.Image.Image image mode=RGB size=272x66 at 0x18F571833C8>"
      ]
     },
     "execution_count": 3,
     "metadata": {},
     "output_type": "execute_result"
    }
   ],
   "source": [
    "model_upload = load_model(\"C:/Users/xuxia/OneDrive/Desktop/ee628-final-project/model\")\n",
    "img = Image.open('testimage3.jpg')\n",
    "data = asarray(img)\n",
    "width, height = img.size\n",
    "line_list = [0]\n",
    "for i in range(len(data)):\n",
    "    if white_judge(data[i][0]) == False:\n",
    "        line_list.append(i)\n",
    "line_list = combine_line(line_list)\n",
    "line_list.append(len(data))\n",
    "# Cut Image at y_Axis\n",
    "img_list = []\n",
    "left = 0\n",
    "right = width - 1\n",
    "\n",
    "for i in range(len(line_list)-1):\n",
    "    top = line_list[i]+2\n",
    "    bot = line_list[i+1]-1\n",
    "    new_img = img.crop((left, top, right, bot))\n",
    "    img_list.append([])\n",
    "    img_list[i].append(new_img)\n",
    "    \n",
    "img_list[9][0]"
   ]
  },
  {
   "cell_type": "code",
   "execution_count": 4,
   "metadata": {},
   "outputs": [
    {
     "data": {
      "image/png": "[encoded data removed]",
      "text/plain": [
       "<PIL.Image.Image image mode=RGB size=28x28 at 0x18F53AA20C8>"
      ]
     },
     "execution_count": 4,
     "metadata": {},
     "output_type": "execute_result"
    }
   ],
   "source": [
    "# Cut Image at X_Axis\n",
    "for i in range(len(img_list)):\n",
    "    img2 = img_list[i][0]\n",
    "    img2_list = img_split_X(img2)\n",
    "    img_list[i].append(img2_list)\n",
    "img_list[9][1][2]"
   ]
  },
  {
   "cell_type": "code",
   "execution_count": 5,
   "metadata": {},
   "outputs": [
    {
     "name": "stdout",
     "output_type": "stream",
     "text": [
      "new_line_start\n",
      "[7]\n",
      "new_line_start\n",
      "[6]\n",
      "new_line_start\n",
      "[5]\n",
      "new_line_start\n",
      "[3]\n",
      "new_line_start\n",
      "[6]\n",
      "[7]\n",
      "new_line_start\n",
      "[8]\n",
      "[8]\n",
      "new_line_start\n",
      "[9]\n",
      "[6]\n",
      "new_line_start\n",
      "[9]\n",
      "[9]\n",
      "new_line_start\n",
      "[6]\n",
      "[6]\n",
      "[7]\n",
      "new_line_start\n",
      "[8]\n",
      "[1]\n",
      "[3]\n"
     ]
    }
   ],
   "source": [
    "prediction = []\n",
    "for k in range(len(img_list)-1):\n",
    "    if k != 0:\n",
    "        prediction.append([])\n",
    "        # prcossion image to shape (1,28,28,1)\n",
    "        for l in range(len(img_list[k][1])):\n",
    "            timg = img_list[k][1][l]\n",
    "            timg = img_to_array(timg)\n",
    "            timg_p = np.zeros((28, 28, 1))\n",
    "            for i in range (len(timg_p[0])):\n",
    "                for j in range(len(timg_p[i])):\n",
    "                    rbg = (timg[i][j][0] + timg[i][j][1] + timg[i][j][2])/3\n",
    "                    if deep_judge(timg[i][j]) == False:\n",
    "                        timg_p[i][j][0] = 1 - rbg/255\n",
    "                    if deep_judge(timg[i][j]) == True:\n",
    "                        timg_p[i][j][0] = 0\n",
    "            timg_p = np.expand_dims(timg_p, axis=0)\n",
    "            #prediction\n",
    "            predict = model_upload.predict_classes(timg_p)\n",
    "            prediction[k-1].append(predict)\n",
    "            \n",
    "for i in range(len(prediction)):\n",
    "    print(\"new_line_start\")\n",
    "    for j in range(len(prediction[i])):\n",
    "        print(prediction[i][j])"
   ]
  },
  {
   "cell_type": "code",
   "execution_count": 6,
   "metadata": {},
   "outputs": [
    {
     "data": {
      "image/png": "[encoded data removed]",
      "text/plain": [
       "<PIL.JpegImagePlugin.JpegImageFile image mode=RGB size=273x752 at 0x18F56478048>"
      ]
     },
     "execution_count": 6,
     "metadata": {},
     "output_type": "execute_result"
    }
   ],
   "source": [
    "img"
   ]
  },
  {
   "cell_type": "code",
   "execution_count": 397,
   "metadata": {},
   "outputs": [
    {
     "data": {
      "text/plain": [
       "90"
      ]
     },
     "execution_count": 397,
     "metadata": {},
     "output_type": "execute_result"
    }
   ],
   "source": [
    "#score calculator\n",
    "correct_answer = [7,6,5,5,67,88,96,99,667,813]\n",
    "student_answer = []\n",
    "for i in range(len(prediction)):\n",
    "    number = 0\n",
    "    ten = 0\n",
    "    for j in range(len(prediction[i])):\n",
    "        add_num = prediction[i][len(prediction[i])-(j+1)]\n",
    "        if ten>0:\n",
    "            for k in range(ten):\n",
    "                add_num = add_num*10\n",
    "        number += add_num\n",
    "        ten +=1\n",
    "    student_answer.append(number)   \n",
    "score = 0\n",
    "\n",
    "for i in range(len(correct_answer)):\n",
    "    if correct_answer[i] == student_answer[i]:\n",
    "        score += 10\n",
    "score\n",
    "    "
   ]
  },
  {
   "cell_type": "markdown",
   "metadata": {},
   "source": [
    "10 answers, 9 correct, 1 wrong\n",
    "\n",
    "# Some more test "
   ]
  },
  {
   "cell_type": "code",
   "execution_count": 400,
   "metadata": {},
   "outputs": [
    {
     "name": "stdout",
     "output_type": "stream",
     "text": [
      "new_line_start\n",
      "[5]\n",
      "new_line_start\n",
      "[4]\n",
      "new_line_start\n",
      "[3]\n",
      "new_line_start\n",
      "[6]\n",
      "new_line_start\n",
      "[7]\n"
     ]
    }
   ],
   "source": [
    "# More example for classification\n",
    "img = Image.open('testimage1.jpg')\n",
    "data = asarray(img)\n",
    "width, height = img.size\n",
    "line_list = [0]\n",
    "for i in range(len(data)):\n",
    "    if white_judge(data[i][0]) == False:\n",
    "        line_list.append(i)\n",
    "line_list = combine_line(line_list)\n",
    "line_list.append(len(data))\n",
    "# Cut Image at y_Axis\n",
    "img_list = []\n",
    "left = 0\n",
    "right = width - 1\n",
    "\n",
    "for i in range(len(line_list)-1):\n",
    "    top = line_list[i]+2\n",
    "    bot = line_list[i+1]-1\n",
    "    new_img = img.crop((left, top, right, bot))\n",
    "    img_list.append([])\n",
    "    img_list[i].append(new_img)\n",
    "\n",
    "# Cut Image at X_Axis\n",
    "for i in range(len(img_list)):\n",
    "    img2 = img_list[i][0]\n",
    "    img2_list = img_split_X(img2)\n",
    "    img_list[i].append(img2_list)\n",
    "\n",
    "prediction = []\n",
    "for k in range(len(img_list)-1):\n",
    "    if k != 0:\n",
    "        prediction.append([])\n",
    "        # prcossion image to shape (1,28,28,1)\n",
    "        for l in range(len(img_list[k][1])):\n",
    "            timg = img_list[k][1][l]\n",
    "            timg = img_to_array(timg)\n",
    "            timg_p = np.zeros((28, 28, 1))\n",
    "            for i in range (len(timg_p[0])):\n",
    "                for j in range(len(timg_p[i])):\n",
    "                    rbg = (timg[i][j][0] + timg[i][j][1] + timg[i][j][2])/3\n",
    "                    if deep_judge(timg[i][j]) == False:\n",
    "                        timg_p[i][j][0] = 1 - rbg/255\n",
    "                    if deep_judge(timg[i][j]) == True:\n",
    "                        timg_p[i][j][0] = 0\n",
    "            timg_p = np.expand_dims(timg_p, axis=0)\n",
    "            #prediction\n",
    "            predict = model_upload.predict_classes(timg_p)\n",
    "            prediction[k-1].append(predict)\n",
    "            \n",
    "for i in range(len(prediction)):\n",
    "    print(\"new_line_start\")\n",
    "    for j in range(len(prediction[i])):\n",
    "        print(prediction[i][j])"
   ]
  },
  {
   "cell_type": "code",
   "execution_count": 401,
   "metadata": {},
   "outputs": [
    {
     "data": {
      "image/png": "[encoded data removed]",
      "text/plain": [
       "<PIL.JpegImagePlugin.JpegImageFile image mode=RGB size=258x504 at 0x19C70EA4548>"
      ]
     },
     "execution_count": 401,
     "metadata": {},
     "output_type": "execute_result"
    }
   ],
   "source": [
    "img"
   ]
  },
  {
   "cell_type": "code",
   "execution_count": 402,
   "metadata": {},
   "outputs": [
    {
     "name": "stdout",
     "output_type": "stream",
     "text": [
      "new_line_start\n",
      "[1]\n",
      "new_line_start\n",
      "[8]\n",
      "new_line_start\n",
      "[3]\n",
      "new_line_start\n",
      "[9]\n",
      "new_line_start\n",
      "[6]\n"
     ]
    }
   ],
   "source": [
    "# More example for classification\n",
    "img = Image.open('testimage2.jpg')\n",
    "data = asarray(img)\n",
    "width, height = img.size\n",
    "line_list = [0]\n",
    "for i in range(len(data)):\n",
    "    if white_judge(data[i][0]) == False:\n",
    "        line_list.append(i)\n",
    "line_list = combine_line(line_list)\n",
    "line_list.append(len(data))\n",
    "# Cut Image at y_Axis\n",
    "img_list = []\n",
    "left = 0\n",
    "right = width - 1\n",
    "\n",
    "for i in range(len(line_list)-1):\n",
    "    top = line_list[i]+2\n",
    "    bot = line_list[i+1]-1\n",
    "    new_img = img.crop((left, top, right, bot))\n",
    "    img_list.append([])\n",
    "    img_list[i].append(new_img)\n",
    "\n",
    "# Cut Image at X_Axis\n",
    "for i in range(len(img_list)):\n",
    "    img2 = img_list[i][0]\n",
    "    img2_list = img_split_X(img2)\n",
    "    img_list[i].append(img2_list)\n",
    "\n",
    "prediction = []\n",
    "for k in range(len(img_list)-1):\n",
    "    if k != 0:\n",
    "        prediction.append([])\n",
    "        # prcossion image to shape (1,28,28,1)\n",
    "        for l in range(len(img_list[k][1])):\n",
    "            timg = img_list[k][1][l]\n",
    "            timg = img_to_array(timg)\n",
    "            timg_p = np.zeros((28, 28, 1))\n",
    "            for i in range (len(timg_p[0])):\n",
    "                for j in range(len(timg_p[i])):\n",
    "                    rbg = (timg[i][j][0] + timg[i][j][1] + timg[i][j][2])/3\n",
    "                    if deep_judge(timg[i][j]) == False:\n",
    "                        timg_p[i][j][0] = 1 - rbg/255\n",
    "                    if deep_judge(timg[i][j]) == True:\n",
    "                        timg_p[i][j][0] = 0\n",
    "            timg_p = np.expand_dims(timg_p, axis=0)\n",
    "            #prediction\n",
    "            predict = model_upload.predict_classes(timg_p)\n",
    "            prediction[k-1].append(predict)\n",
    "            \n",
    "for i in range(len(prediction)):\n",
    "    print(\"new_line_start\")\n",
    "    for j in range(len(prediction[i])):\n",
    "        print(prediction[i][j])"
   ]
  },
  {
   "cell_type": "code",
   "execution_count": 403,
   "metadata": {},
   "outputs": [
    {
     "data": {
      "image/png": "[encoded data removed]",
      "text/plain": [
       "<PIL.JpegImagePlugin.JpegImageFile image mode=RGB size=332x490 at 0x19C732B3CC8>"
      ]
     },
     "execution_count": 403,
     "metadata": {},
     "output_type": "execute_result"
    }
   ],
   "source": [
    "img"
   ]
  },
  {
   "cell_type": "code",
   "execution_count": null,
   "metadata": {},
   "outputs": [],
   "source": [
    "# More example for classification\n",
    "img = Image.open('testimage4.jpg')\n",
    "data = asarray(img)\n",
    "width, height = img.size\n",
    "line_list = [0]\n",
    "for i in range(len(data)):\n",
    "    if white_judge(data[i][0]) == False:\n",
    "        line_list.append(i)\n",
    "line_list = combine_line(line_list)\n",
    "line_list.append(len(data))\n",
    "# Cut Image at y_Axis\n",
    "img_list = []\n",
    "left = 0\n",
    "right = width - 1\n",
    "\n",
    "for i in range(len(line_list)-1):\n",
    "    top = line_list[i]+2\n",
    "    bot = line_list[i+1]-1\n",
    "    new_img = img.crop((left, top, right, bot))\n",
    "    img_list.append([])\n",
    "    img_list[i].append(new_img)\n",
    "\n",
    "# Cut Image at X_Axis\n",
    "for i in range(len(img_list)):\n",
    "    img2 = img_list[i][0]\n",
    "    img2_list = img_split_X(img2)\n",
    "    img_list[i].append(img2_list)\n",
    "\n",
    "prediction = []\n",
    "for k in range(len(img_list)-1):\n",
    "    if k != 0:\n",
    "        prediction.append([])\n",
    "        # prcossion image to shape (1,28,28,1)\n",
    "        for l in range(len(img_list[k][1])):\n",
    "            timg = img_list[k][1][l]\n",
    "            timg = img_to_array(timg)\n",
    "            timg_p = np.zeros((28, 28, 1))\n",
    "            for i in range (len(timg_p[0])):\n",
    "                for j in range(len(timg_p[i])):\n",
    "                    rbg = (timg[i][j][0] + timg[i][j][1] + timg[i][j][2])/3\n",
    "                    if deep_judge(timg[i][j]) == False:\n",
    "                        timg_p[i][j][0] = 1 - rbg/255\n",
    "                    if deep_judge(timg[i][j]) == True:\n",
    "                        timg_p[i][j][0] = 0\n",
    "            timg_p = np.expand_dims(timg_p, axis=0)\n",
    "            #prediction\n",
    "            predict = model_upload.predict_classes(timg_p)\n",
    "            prediction[k-1].append(predict)\n",
    "            \n",
    "for i in range(len(prediction)):\n",
    "    print(\"new_line_start\")\n",
    "    for j in range(len(prediction[i])):\n",
    "        print(prediction[i][j])"
   ]
  }
 ],
 "metadata": {
  "kernelspec": {
   "display_name": "Python 3",
   "language": "python",
   "name": "python3"
  },
  "language_info": {
   "codemirror_mode": {
    "name": "ipython",
    "version": 3
   },
   "file_extension": ".py",
   "mimetype": "text/x-python",
   "name": "python",
   "nbconvert_exporter": "python",
   "pygments_lexer": "ipython3",
   "version": "3.7.4"
  }
 },
 "nbformat": 4,
 "nbformat_minor": 2
}
