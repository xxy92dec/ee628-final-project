{
 "cells": [
  {
   "cell_type": "code",
   "execution_count": 5,
   "metadata": {},
   "outputs": [],
   "source": [
    "import numpy as np\n",
    "import tensorflow as tf\n",
    "import tensorflow.keras.layers as KL\n",
    "import os\n",
    "from keras.models import Sequential, load_model\n",
    "from matplotlib import pyplot as plt\n",
    "from keras.layers import Conv2D, MaxPooling2D, Dense, Dropout, Flatten"
   ]
  },
  {
   "cell_type": "code",
   "execution_count": 6,
   "metadata": {},
   "outputs": [],
   "source": [
    "#dataset\n",
    "dataset = tf.keras.datasets.mnist\n",
    "(x_train, y_train),(x_test,y_test) = dataset.load_data()\n"
   ]
  },
  {
   "cell_type": "code",
   "execution_count": null,
   "metadata": {},
   "outputs": [],
   "source": [
    "#Normalize to 0 and 1\n",
    "x_train = np.expand_dims(x_train/255,axis=-1)\n",
    "x_test =  np.expand_dims(x_test/255,axis=-1)\n",
    "x_train.shape"
   ]
  },
  {
   "cell_type": "code",
   "execution_count": 3,
   "metadata": {},
   "outputs": [
    {
     "name": "stdout",
     "output_type": "stream",
     "text": [
      "Model: \"sequential_1\"\n",
      "_________________________________________________________________\n",
      "Layer (type)                 Output Shape              Param #   \n",
      "=================================================================\n",
      "conv2d_1 (Conv2D)            (None, 26, 26, 32)        320       \n",
      "_________________________________________________________________\n",
      "conv2d_2 (Conv2D)            (None, 24, 24, 64)        18496     \n",
      "_________________________________________________________________\n",
      "max_pooling2d_1 (MaxPooling2 (None, 12, 12, 64)        0         \n",
      "_________________________________________________________________\n",
      "dropout_1 (Dropout)          (None, 12, 12, 64)        0         \n",
      "_________________________________________________________________\n",
      "flatten_1 (Flatten)          (None, 9216)              0         \n",
      "_________________________________________________________________\n",
      "dense_1 (Dense)              (None, 128)               1179776   \n",
      "_________________________________________________________________\n",
      "dropout_2 (Dropout)          (None, 128)               0         \n",
      "_________________________________________________________________\n",
      "dense_2 (Dense)              (None, 10)                1290      \n",
      "=================================================================\n",
      "Total params: 1,199,882\n",
      "Trainable params: 1,199,882\n",
      "Non-trainable params: 0\n",
      "_________________________________________________________________\n"
     ]
    }
   ],
   "source": [
    "### Model\n",
    "model = Sequential()\n",
    "model.add(Conv2D(32, (3, 3), activation='relu', input_shape=(28, 28, 1)))\n",
    "model.add(Conv2D(64, (3, 3), activation='relu'))\n",
    "model.add(MaxPooling2D(pool_size=(2, 2)))\n",
    "model.add(Dropout(0.25))\n",
    "model.add(Flatten())\n",
    "model.add(Dense(128, activation='relu'))\n",
    "model.add(Dropout(0.5))\n",
    "model.add(Dense(10, activation='softmax'))\n",
    "model.summary()"
   ]
  },
  {
   "cell_type": "code",
   "execution_count": 4,
   "metadata": {},
   "outputs": [
    {
     "name": "stdout",
     "output_type": "stream",
     "text": [
      "Epoch 1/10\n",
      "60000/60000 [==============================] - 86s 1ms/step - loss: 0.1881 - accuracy: 0.9434\n",
      "Epoch 2/10\n",
      "60000/60000 [==============================] - 86s 1ms/step - loss: 0.0777 - accuracy: 0.9768\n",
      "Epoch 3/10\n",
      "60000/60000 [==============================] - 86s 1ms/step - loss: 0.0618 - accuracy: 0.9818\n",
      "Epoch 4/10\n",
      "60000/60000 [==============================] - 86s 1ms/step - loss: 0.0509 - accuracy: 0.9852\n",
      "Epoch 5/10\n",
      "60000/60000 [==============================] - 86s 1ms/step - loss: 0.0429 - accuracy: 0.9866\n",
      "Epoch 6/10\n",
      "60000/60000 [==============================] - 87s 1ms/step - loss: 0.0352 - accuracy: 0.9892\n",
      "Epoch 7/10\n",
      "60000/60000 [==============================] - 88s 1ms/step - loss: 0.0324 - accuracy: 0.9900 2s - loss: 0.0 - ETA: 1s - l\n",
      "Epoch 8/10\n",
      "60000/60000 [==============================] - 87s 1ms/step - loss: 0.0294 - accuracy: 0.9910\n",
      "Epoch 9/10\n",
      "60000/60000 [==============================] - 87s 1ms/step - loss: 0.0255 - accuracy: 0.9917\n",
      "Epoch 10/10\n",
      "60000/60000 [==============================] - 87s 1ms/step - loss: 0.0221 - accuracy: 0.9925\n",
      "10000/10000 [==============================] - 3s 328us/step\n"
     ]
    }
   ],
   "source": [
    "model.compile(optimizer=\"adam\",loss =\"sparse_categorical_crossentropy\",metrics = [\"accuracy\"])\n",
    "model.fit(x_train, y_train,epochs = 10)\n",
    "test_loss,test_acc = model.evaluate(x_test,y_test)\n",
    "model.save(\"C:/Users/xuxia/OneDrive/Desktop/ee628-final-project/model\")"
   ]
  },
  {
   "cell_type": "code",
   "execution_count": 4,
   "metadata": {},
   "outputs": [
    {
     "name": "stdout",
     "output_type": "stream",
     "text": [
      "loss 0.029857864829802856 accuracy 0.9922999739646912\n"
     ]
    }
   ],
   "source": [
    "# image test\n",
    "model_upload = load_model(\"C:/Users/xuxia/OneDrive/Desktop/ee628-final-project/model\")\n",
    "laa = model_upload.evaluate(x_test, y_test, verbose=2)\n",
    "print(\"loss\",laa[0],\"accuracy\",laa[1])\n",
    "predict = model_upload.predict_classes(x_test)"
   ]
  },
  {
   "cell_type": "code",
   "execution_count": 33,
   "metadata": {},
   "outputs": [
    {
     "name": "stdout",
     "output_type": "stream",
     "text": [
      "    n      test_y     predict_y \n",
      "    1          7          7\n",
      "    2          2          2\n",
      "    3          1          1\n",
      "    4          0          0\n",
      "    5          4          4\n",
      "    6          1          1\n",
      "    7          4          4\n",
      "    8          9          9\n",
      "    9          5          5\n",
      "   10          9          9\n",
      "   11          0          0\n",
      "   12          6          6\n",
      "   13          9          9\n",
      "   14          0          0\n",
      "   15          1          1\n",
      "   16          5          5\n",
      "   17          9          9\n",
      "   18          7          7\n",
      "   19          3          3\n",
      "   20          4          4\n"
     ]
    }
   ],
   "source": [
    "# test_prediction & test_y\n",
    "print(f'{\"    n\":10} {\"test_y\":10} {\"predict_y\":10}')\n",
    "for i in range(20):\n",
    "    print(f'{i+1:5} {y_test[i]:10} {predict[i]:10}')"
   ]
  },
  {
   "cell_type": "code",
   "execution_count": null,
   "metadata": {},
   "outputs": [],
   "source": []
  }
 ],
 "metadata": {
  "kernelspec": {
   "display_name": "Python 3",
   "language": "python",
   "name": "python3"
  },
  "language_info": {
   "codemirror_mode": {
    "name": "ipython",
    "version": 3
   },
   "file_extension": ".py",
   "mimetype": "text/x-python",
   "name": "python",
   "nbconvert_exporter": "python",
   "pygments_lexer": "ipython3",
   "version": "3.7.4"
  }
 },
 "nbformat": 4,
 "nbformat_minor": 2
}
